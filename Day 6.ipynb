{
 "cells": [
  {
   "cell_type": "code",
   "execution_count": 20,
   "id": "92a09b45",
   "metadata": {},
   "outputs": [],
   "source": [
    "day_6_input = \"\"\"1,2,1,1,1,1,1,1,2,1,3,1,1,1,1,3,1,1,1,5,1,1,1,4,5,1,1,1,3,4,1,1,1,1,1,1,1,5,1,4,1,1,1,1,1,1,1,5,1,3,1,3,1,1,1,5,1,1,1,1,1,5,4,1,2,4,4,1,1,1,1,1,5,1,1,1,1,1,5,4,3,1,1,1,1,1,1,1,5,1,3,1,4,1,1,3,1,1,1,1,1,1,2,1,4,1,3,1,1,1,1,1,5,1,1,1,2,1,1,1,1,2,1,1,1,1,4,1,3,1,1,1,1,1,1,1,1,5,1,1,4,1,1,1,1,1,3,1,3,3,1,1,1,2,1,1,1,1,1,1,1,1,1,5,1,1,1,1,5,1,1,1,1,2,1,1,1,4,1,1,1,2,3,1,1,1,1,1,1,1,1,2,1,1,1,2,3,1,2,1,1,5,4,1,1,2,1,1,1,3,1,4,1,1,1,1,3,1,2,5,1,1,1,5,1,1,1,1,1,4,1,1,4,1,1,1,2,2,2,2,4,3,1,1,3,1,1,1,1,1,1,2,2,1,1,4,2,1,4,1,1,1,1,1,5,1,1,4,2,1,1,2,5,4,2,1,1,1,1,4,2,3,5,2,1,5,1,3,1,1,5,1,1,4,5,1,1,1,1,4\"\"\"\n",
    "day_6_input = [int(x) for x in day_6_input.split(\",\")]\n",
    "day_6_input = [day_6_input.count(x) for x in range(9)]"
   ]
  },
  {
   "cell_type": "code",
   "execution_count": 21,
   "id": "a62f06a6",
   "metadata": {},
   "outputs": [
    {
     "name": "stdout",
     "output_type": "stream",
     "text": [
      "390923\n"
     ]
    }
   ],
   "source": [
    "def day_6_part_1():\n",
    "    fish = day_6_input[:]\n",
    "    \n",
    "    for day in range(80):\n",
    "        fish = fish[1:] + fish[0:1]\n",
    "        fish[6] += fish[8]\n",
    "                \n",
    "    return sum(fish)\n",
    "\n",
    "print(day_6_part_1()) #should be 390923"
   ]
  },
  {
   "cell_type": "code",
   "execution_count": 22,
   "id": "b159a039",
   "metadata": {},
   "outputs": [
    {
     "name": "stdout",
     "output_type": "stream",
     "text": [
      "1749945484935\n"
     ]
    }
   ],
   "source": [
    "def day_6_part_2():\n",
    "    fish = day_6_input[:]\n",
    "    \n",
    "    for day in range(256):\n",
    "        fish = fish[1:] + fish[0:1]\n",
    "        fish[6] += fish[8]\n",
    "    \n",
    "    return sum(fish)\n",
    "\n",
    "print(day_6_part_2()) #should be 1749945484935"
   ]
  },
  {
   "cell_type": "code",
   "execution_count": 23,
   "id": "44346bb9",
   "metadata": {},
   "outputs": [
    {
     "name": "stdout",
     "output_type": "stream",
     "text": [
      "29.9 µs ± 553 ns per loop (mean ± std. dev. of 7 runs, 10000 loops each)\n",
      "94 µs ± 690 ns per loop (mean ± std. dev. of 7 runs, 10000 loops each)\n"
     ]
    }
   ],
   "source": [
    "%timeit day_6_part_1()\n",
    "%timeit day_6_part_2()"
   ]
  },
  {
   "cell_type": "code",
   "execution_count": 24,
   "id": "70865f62",
   "metadata": {},
   "outputs": [
    {
     "name": "stdout",
     "output_type": "stream",
     "text": [
      "24.8 µs ± 279 ns per loop (mean ± std. dev. of 7 runs, 10000 loops each)\n",
      "1749945484935\n"
     ]
    }
   ],
   "source": [
    "\n",
    "def day_6_part_2_(days):\n",
    "    fish = day_6_input[:]\n",
    "    fish2 = [0]*9\n",
    "    for day in range(days//64):\n",
    "        fish2[0] = 70*fish[0] + 2*fish[1] + 56*fish[2] + 7*fish[3] + 28*fish[4] + 21*fish[5] + 8*fish[6] + 35*fish[7] + 1*fish[8]\n",
    "        fish2[1] = 9*fish[0] + 70*fish[1] + 2*fish[2] + 56*fish[3] + 7*fish[4] + 28*fish[5] + 21*fish[6] + 8*fish[7] + 35*fish[8]\n",
    "        fish2[2] = 56*fish[0] + 9*fish[1] + 70*fish[2] + 2*fish[3] + 56*fish[4] + 7*fish[5] + 28*fish[6] + 21*fish[7] + 8*fish[8]\n",
    "        fish2[3] = 36*fish[0] + 56*fish[1] + 9*fish[2] + 70*fish[3] + 2*fish[4] + 56*fish[5] + 7*fish[6] + 28*fish[7] + 21*fish[8]\n",
    "        fish2[4] = 28*fish[0] + 36*fish[1] + 56*fish[2] + 9*fish[3] + 70*fish[4] + 2*fish[5] + 56*fish[6] + 7*fish[7] + 28*fish[8]\n",
    "        fish2[5] = 84*fish[0] + 28*fish[1] + 36*fish[2] + 56*fish[3] + 9*fish[4] + 70*fish[5] + 2*fish[6] + 56*fish[7] + 7*fish[8]\n",
    "        fish2[6] = 9*fish[0] + 84*fish[1] + 28*fish[2] + 36*fish[3] + 56*fish[4] + 9*fish[5] + 70*fish[6] + 2*fish[7] + 56*fish[8]\n",
    "        fish2[7] = 56*fish[0] + 7*fish[1] + 28*fish[2] + 21*fish[3] + 8*fish[4] + 35*fish[5] + 1*fish[6] + 35*fish[7] + 1*fish[8]\n",
    "        fish2[8] = 2*fish[0] + 56*fish[1] + 7*fish[2] + 28*fish[3] + 21*fish[4] + 8*fish[5] + 35*fish[6] + 1*fish[7] + 35*fish[8]\n",
    "        fish, fish2 = fish2, fish\n",
    "    \n",
    "    for day in range(days%64):\n",
    "        fish = fish[1:] + fish[0:1]\n",
    "        fish[6] += fish[8]\n",
    "\n",
    "    return sum(fish)\n",
    "\n",
    "%timeit day_6_part_2_(256)\n",
    "print(day_6_part_2_(256))\n",
    "\n",
    "#[0, 1, 2, 3, 4, 5,     6, 7, 8]\n",
    "#[1, 2, 3, 4, 5, 6, 7 + 0, 8, 0]             1\n",
    "#[2, 3, 4, 5, 6, 7 + 0, 8 + 1, 0, 1]         2\n",
    "#[3, 4, 5, 6, 7 + 0, 8 + 1, 0 + 2, 1, 2]     3\n",
    "#[4, 5, 6, 7 + 0, 8 + 1, 0 + 2, 1 + 3, 2, 3] 4\n",
    "#[5, 6, 7 + 0, 8 + 1, 0 + 2, 1 + 3, 2 + 4, 3, 4] 5\n",
    "#[6, 7 +0, 8 + 1, 0 + 2, 1 + 3, 2 + 4, 3 + 5, 4, 5] 6\n",
    "#[7 +0, 8 + 1, 0 + 2, 1 + 3, 2 + 4, 3 + 5, 4 + 6, 5, 6] 7\n",
    "#[8 + 1, 0 + 2, 1 + 3, 2 + 4, 3 + 5, 4 + 6, 5 + 7 + 0, 6, 7 + 0"
   ]
  },
  {
   "cell_type": "code",
   "execution_count": 25,
   "id": "e2d51f00",
   "metadata": {},
   "outputs": [
    {
     "name": "stdout",
     "output_type": "stream",
     "text": [
      "7.12 µs ± 316 ns per loop (mean ± std. dev. of 7 runs, 100000 loops each)\n",
      "1749945484935\n"
     ]
    }
   ],
   "source": [
    "def day_6_part_2__():\n",
    "    fish = day_6_input[:]\n",
    "    res = [0]*9\n",
    "    res[0] = 655568076*fish[0] + 496266131*fish[1] + 589731885*fish[2] + 399865906*fish[3] + 491122368*fish[4] + 357868865*fish[5] + 378763547*fish[6] + 339582910*fish[7] + 280698774*fish[8]\n",
    "    res[1] = 659462321*fish[0] + 655568076*fish[1] + 496266131*fish[2] + 589731885*fish[3] + 399865906*fish[4] + 491122368*fish[5] + 357868865*fish[6] + 378763547*fish[7] + 339582910*fish[8]\n",
    "    res[2] = 697451775*fish[0] + 659462321*fish[1] + 655568076*fish[2] + 496266131*fish[3] + 589731885*fish[4] + 399865906*fish[5] + 491122368*fish[6] + 357868865*fish[7] + 378763547*fish[8]\n",
    "    res[3] = 869885915*fish[0] + 697451775*fish[1] + 659462321*fish[2] + 655568076*fish[3] + 496266131*fish[4] + 589731885*fish[5] + 399865906*fish[6] + 491122368*fish[7] + 357868865*fish[8]\n",
    "    res[4] = 757734771*fish[0] + 869885915*fish[1] + 697451775*fish[2] + 659462321*fish[3] + 655568076*fish[4] + 496266131*fish[5] + 589731885*fish[6] + 399865906*fish[7] + 491122368*fish[8]\n",
    "    res[5] = 1080854253*fish[0] + 757734771*fish[1] + 869885915*fish[2] + 697451775*fish[3] + 659462321*fish[4] + 655568076*fish[5] + 496266131*fish[6] + 589731885*fish[7] + 399865906*fish[8]\n",
    "    res[6] = 896132037*fish[0] + 1080854253*fish[1] + 757734771*fish[2] + 869885915*fish[3] + 697451775*fish[4] + 659462321*fish[5] + 655568076*fish[6] + 496266131*fish[7] + 589731885*fish[8]\n",
    "    res[7] = 589731885*fish[0] + 399865906*fish[1] + 491122368*fish[2] + 357868865*fish[3] + 378763547*fish[4] + 339582910*fish[5] + 280698774*fish[6] + 315985166*fish[7] + 215567357*fish[8]\n",
    "    res[8] = 496266131*fish[0] + 589731885*fish[1] + 399865906*fish[2] + 491122368*fish[3] + 357868865*fish[4] + 378763547*fish[5] + 339582910*fish[6] + 280698774*fish[7] + 315985166*fish[8]\n",
    "    return sum(res)\n",
    "\n",
    "%timeit day_6_part_2__()\n",
    "print(day_6_part_2__())"
   ]
  },
  {
   "cell_type": "code",
   "execution_count": 26,
   "id": "f220fe5f",
   "metadata": {},
   "outputs": [
    {
     "name": "stdout",
     "output_type": "stream",
     "text": [
      "12888*fish[0] + 3745*fish[1] + 11442*fish[2] + 3683*fish[3] + 8022*fish[4] + 5141*fish[5] + 4459*fish[6] + 6452*fish[7] + 2184*fish[8]\n",
      "6643*fish[0] + 12888*fish[1] + 3745*fish[2] + 11442*fish[3] + 3683*fish[4] + 8022*fish[5] + 5141*fish[6] + 4459*fish[7] + 6452*fish[8]\n",
      "11593*fish[0] + 6643*fish[1] + 12888*fish[2] + 3745*fish[3] + 11442*fish[4] + 3683*fish[5] + 8022*fish[6] + 5141*fish[7] + 4459*fish[8]\n",
      "12481*fish[0] + 11593*fish[1] + 6643*fish[2] + 12888*fish[3] + 3745*fish[4] + 11442*fish[5] + 3683*fish[6] + 8022*fish[7] + 5141*fish[8]\n",
      "8824*fish[0] + 12481*fish[1] + 11593*fish[2] + 6643*fish[3] + 12888*fish[4] + 3745*fish[5] + 11442*fish[6] + 3683*fish[7] + 8022*fish[8]\n",
      "19464*fish[0] + 8824*fish[1] + 12481*fish[2] + 11593*fish[3] + 6643*fish[4] + 12888*fish[5] + 3745*fish[6] + 11442*fish[7] + 3683*fish[8]\n",
      "7428*fish[0] + 19464*fish[1] + 8824*fish[2] + 12481*fish[3] + 11593*fish[4] + 6643*fish[5] + 12888*fish[6] + 3745*fish[7] + 11442*fish[8]\n",
      "11442*fish[0] + 3683*fish[1] + 8022*fish[2] + 5141*fish[3] + 4459*fish[4] + 6452*fish[5] + 2184*fish[6] + 6436*fish[7] + 1561*fish[8]\n",
      "3745*fish[0] + 11442*fish[1] + 3683*fish[2] + 8022*fish[3] + 5141*fish[4] + 4459*fish[5] + 6452*fish[6] + 2184*fish[7] + 6436*fish[8]\n"
     ]
    }
   ],
   "source": [
    "from collections import Counter\n",
    "start = [[i] for i in range(9)]\n",
    "for i in range(128):\n",
    "    start = start[1:] + start[0:1]\n",
    "    start[6].extend(start[8])\n",
    "\n",
    "vals = [Counter(x) for x in start]\n",
    "vals\n",
    "\n",
    "for x in vals:\n",
    "    print(\" + \".join([f\"{x[i]}*fish[{i}]\" for i in range(9)]))\n",
    "\n",
    "# for day in range(32):\n",
    "#         fish2[0] = 70*fish[0] + 2*fish[1] + 56*fish[2] + 7*fish[3] + 28*fish[4] + 21*fish[5] + 8*fish[6] + 35*fish[7] + 1*fish[8]\n",
    "#         fish2[1] = 9*fish[0] + 70*fish[1] + 2*fish[2] + 56*fish[3] + 7*fish[4] + 28*fish[5] + 21*fish[6] + 8*fish[7] + 35*fish[8]\n",
    "#         fish2[2] = 56*fish[0] + 9*fish[1] + 70*fish[2] + 2*fish[3] + 56*fish[4] + 7*fish[5] + 28*fish[6] + 21*fish[7] + 8*fish[8]\n",
    "#         fish2[3] = 36*fish[0] + 56*fish[1] + 9*fish[2] + 70*fish[3] + 2*fish[4] + 56*fish[5] + 7*fish[6] + 28*fish[7] + 21*fish[8]\n",
    "#         fish2[4] = 28*fish[0] + 36*fish[1] + 56*fish[2] + 9*fish[3] + 70*fish[4] + 2*fish[5] + 56*fish[6] + 7*fish[7] + 28*fish[8]\n",
    "#         fish2[5] = 84*fish[0] + 28*fish[1] + 36*fish[2] + 56*fish[3] + 9*fish[4] + 70*fish[5] + 2*fish[6] + 56*fish[7] + 7*fish[8]\n",
    "#         fish2[6] = 9*fish[0] + 84*fish[1] + 28*fish[2] + 36*fish[3] + 56*fish[4] + 9*fish[5] + 70*fish[6] + 2*fish[7] + 56*fish[8]\n",
    "#         fish2[7] = 56*fish[0] + 7*fish[1] + 28*fish[2] + 21*fish[3] + 8*fish[4] + 35*fish[5] + 1*fish[6] + 35*fish[7] + 1*fish[8]\n",
    "#         fish2[8] = 2*fish[0] + 56*fish[1] + 7*fish[2] + 28*fish[3] + 21*fish[4] + 8*fish[5] + 35*fish[6] + 1*fish[7] + 35*fish[8]\n",
    "#         fish, fish2 = fish2, fish\n",
    "\n"
   ]
  },
  {
   "cell_type": "code",
   "execution_count": 27,
   "id": "46c6e4fb",
   "metadata": {},
   "outputs": [
    {
     "name": "stdout",
     "output_type": "stream",
     "text": [
      "1749945484935.0\n",
      "[655568076 496266131 589731885 399865906 491122368 357868865 378763547\n",
      " 339582910 280698774]\n",
      "655568076*fish[0] + 496266131*fish[1] + 589731885*fish[2] + 399865906*fish[3] + 491122368*fish[4] + 357868865*fish[5] + 378763547*fish[6] + 339582910*fish[7] + 280698774*fish[8]\n",
      "659462321*fish[0] + 655568076*fish[1] + 496266131*fish[2] + 589731885*fish[3] + 399865906*fish[4] + 491122368*fish[5] + 357868865*fish[6] + 378763547*fish[7] + 339582910*fish[8]\n",
      "697451775*fish[0] + 659462321*fish[1] + 655568076*fish[2] + 496266131*fish[3] + 589731885*fish[4] + 399865906*fish[5] + 491122368*fish[6] + 357868865*fish[7] + 378763547*fish[8]\n",
      "869885915*fish[0] + 697451775*fish[1] + 659462321*fish[2] + 655568076*fish[3] + 496266131*fish[4] + 589731885*fish[5] + 399865906*fish[6] + 491122368*fish[7] + 357868865*fish[8]\n",
      "757734771*fish[0] + 869885915*fish[1] + 697451775*fish[2] + 659462321*fish[3] + 655568076*fish[4] + 496266131*fish[5] + 589731885*fish[6] + 399865906*fish[7] + 491122368*fish[8]\n",
      "1080854253*fish[0] + 757734771*fish[1] + 869885915*fish[2] + 697451775*fish[3] + 659462321*fish[4] + 655568076*fish[5] + 496266131*fish[6] + 589731885*fish[7] + 399865906*fish[8]\n",
      "896132037*fish[0] + 1080854253*fish[1] + 757734771*fish[2] + 869885915*fish[3] + 697451775*fish[4] + 659462321*fish[5] + 655568076*fish[6] + 496266131*fish[7] + 589731885*fish[8]\n",
      "589731885*fish[0] + 399865906*fish[1] + 491122368*fish[2] + 357868865*fish[3] + 378763547*fish[4] + 339582910*fish[5] + 280698774*fish[6] + 315985166*fish[7] + 215567357*fish[8]\n",
      "496266131*fish[0] + 589731885*fish[1] + 399865906*fish[2] + 491122368*fish[3] + 357868865*fish[4] + 378763547*fish[5] + 339582910*fish[6] + 280698774*fish[7] + 315985166*fish[8]\n"
     ]
    }
   ],
   "source": [
    "#Some code to calculate the full p2 matrix and print it out\n",
    "\n",
    "import numpy as np\n",
    "\n",
    "saved_128 = vals[:]\n",
    "m = np.asarray([[x[i] for i in range(9)] for x in saved_128])\n",
    "s = np.asarray(day_6_input, dtype=np.uint64)\n",
    "s.shape = (9, 1)\n",
    "print(np.matmul(np.matmul(m, m), s).sum())\n",
    "res = np.matmul(m, m)\n",
    "print(res[0])\n",
    "for x in res:\n",
    "    print(\" + \".join([f\"{x[i]}*fish[{i}]\" for i in range(9)]))"
   ]
  }
 ],
 "metadata": {
  "kernelspec": {
   "display_name": "Python 3 (ipykernel)",
   "language": "python",
   "name": "python3"
  },
  "language_info": {
   "codemirror_mode": {
    "name": "ipython",
    "version": 3
   },
   "file_extension": ".py",
   "mimetype": "text/x-python",
   "name": "python",
   "nbconvert_exporter": "python",
   "pygments_lexer": "ipython3",
   "version": "3.9.7"
  }
 },
 "nbformat": 4,
 "nbformat_minor": 5
}
